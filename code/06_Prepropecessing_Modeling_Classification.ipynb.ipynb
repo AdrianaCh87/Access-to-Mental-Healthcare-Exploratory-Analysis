{
 "cells": [
  {
   "cell_type": "code",
   "execution_count": 1,
   "metadata": {},
   "outputs": [],
   "source": [
    "import pandas as pd\n",
    "import numpy as np\n",
    "\n",
    "from sklearn.pipeline import Pipeline\n",
    "from sklearn.model_selection import train_test_split, GridSearchCV, cross_val_score\n",
    "from sklearn.preprocessing import StandardScaler\n",
    "\n",
    "# Classifier models\n",
    "from sklearn.linear_model import LogisticRegression\n",
    "from sklearn.ensemble import RandomForestClassifier, ExtraTreesClassifier, AdaBoostClassifier\n",
    "\n",
    "# Metrics\n",
    "from sklearn.metrics import confusion_matrix, plot_confusion_matrix\n",
    "\n",
    "pd.options.display.max_columns = 100"
   ]
  },
  {
   "cell_type": "code",
   "execution_count": 2,
   "metadata": {},
   "outputs": [],
   "source": [
    "file_path = '../datasets/'\n",
    "file_hpsa = '03_cleaned_hpsas_filtered.csv'"
   ]
  },
  {
   "cell_type": "code",
   "execution_count": 3,
   "metadata": {},
   "outputs": [
    {
     "data": {
      "text/html": [
       "<div>\n",
       "<style scoped>\n",
       "    .dataframe tbody tr th:only-of-type {\n",
       "        vertical-align: middle;\n",
       "    }\n",
       "\n",
       "    .dataframe tbody tr th {\n",
       "        vertical-align: top;\n",
       "    }\n",
       "\n",
       "    .dataframe thead th {\n",
       "        text-align: right;\n",
       "    }\n",
       "</style>\n",
       "<table border=\"1\" class=\"dataframe\">\n",
       "  <thead>\n",
       "    <tr style=\"text-align: right;\">\n",
       "      <th></th>\n",
       "      <th>HPSA Designation Date</th>\n",
       "      <th>HPSA Name</th>\n",
       "      <th>Designation Type</th>\n",
       "      <th>HPSA Score</th>\n",
       "      <th>HPSA Status</th>\n",
       "      <th>HPSA Designation Last Update Date</th>\n",
       "      <th>HPSA Degree of Shortage</th>\n",
       "      <th>Withdrawn Date</th>\n",
       "      <th>HPSA FTE</th>\n",
       "      <th>HPSA Designation Population</th>\n",
       "      <th>% of Population Below 100% Poverty</th>\n",
       "      <th>HPSA Formal Ratio</th>\n",
       "      <th>Primary HHS Region Name</th>\n",
       "      <th>Rural Status</th>\n",
       "      <th>Longitude</th>\n",
       "      <th>Latitude</th>\n",
       "      <th>Common County Name</th>\n",
       "      <th>Common State County FIPS Code</th>\n",
       "      <th>County Equivalent Name</th>\n",
       "      <th>HPSA Component Type Description</th>\n",
       "      <th>HPSA Designation Population Type Description</th>\n",
       "      <th>HPSA Estimated Served Population</th>\n",
       "      <th>HPSA Estimated Underserved Population</th>\n",
       "      <th>HPSA Provider Ratio Goal</th>\n",
       "      <th>HPSA Shortage</th>\n",
       "      <th>State Name</th>\n",
       "      <th>U.S. - Mexico Border 100 Kilometer Indicator</th>\n",
       "      <th>U.S. - Mexico Border County Indicator</th>\n",
       "      <th>Designation</th>\n",
       "      <th>State Population</th>\n",
       "    </tr>\n",
       "  </thead>\n",
       "  <tbody>\n",
       "    <tr>\n",
       "      <th>0</th>\n",
       "      <td>1978-01-23</td>\n",
       "      <td>Warren</td>\n",
       "      <td>Geographic HPSA</td>\n",
       "      <td>0</td>\n",
       "      <td>Withdrawn</td>\n",
       "      <td>1995-10-02</td>\n",
       "      <td>Not applicable</td>\n",
       "      <td>1995-10-02</td>\n",
       "      <td>1.0</td>\n",
       "      <td>83300.0</td>\n",
       "      <td>5.4</td>\n",
       "      <td>0</td>\n",
       "      <td>Region 2</td>\n",
       "      <td>NaN</td>\n",
       "      <td>NaN</td>\n",
       "      <td>NaN</td>\n",
       "      <td>Warren County, NJ</td>\n",
       "      <td>34041</td>\n",
       "      <td>Warren</td>\n",
       "      <td>Single County</td>\n",
       "      <td>Geographic Population</td>\n",
       "      <td>0.0</td>\n",
       "      <td>0.0</td>\n",
       "      <td>NaN</td>\n",
       "      <td>NaN</td>\n",
       "      <td>New Jersey</td>\n",
       "      <td>N</td>\n",
       "      <td>N</td>\n",
       "      <td>Geographic</td>\n",
       "      <td>8882190.0</td>\n",
       "    </tr>\n",
       "    <tr>\n",
       "      <th>1</th>\n",
       "      <td>1978-04-07</td>\n",
       "      <td>Halifax Mental Health Catchment Area</td>\n",
       "      <td>Geographic HPSA</td>\n",
       "      <td>0</td>\n",
       "      <td>Withdrawn</td>\n",
       "      <td>2011-11-03</td>\n",
       "      <td>Not applicable</td>\n",
       "      <td>2011-11-03</td>\n",
       "      <td>3.0</td>\n",
       "      <td>0.0</td>\n",
       "      <td>NaN</td>\n",
       "      <td>0</td>\n",
       "      <td>Region 4</td>\n",
       "      <td>Rural</td>\n",
       "      <td>NaN</td>\n",
       "      <td>NaN</td>\n",
       "      <td>Halifax County, NC</td>\n",
       "      <td>37083</td>\n",
       "      <td>Halifax</td>\n",
       "      <td>Single County</td>\n",
       "      <td>Geographic Population</td>\n",
       "      <td>0.0</td>\n",
       "      <td>0.0</td>\n",
       "      <td>NaN</td>\n",
       "      <td>0.0</td>\n",
       "      <td>North Carolina</td>\n",
       "      <td>N</td>\n",
       "      <td>N</td>\n",
       "      <td>Geographic</td>\n",
       "      <td>10488084.0</td>\n",
       "    </tr>\n",
       "    <tr>\n",
       "      <th>2</th>\n",
       "      <td>1978-04-24</td>\n",
       "      <td>Metropolitan State Hospital</td>\n",
       "      <td>State Mental Hospital</td>\n",
       "      <td>0</td>\n",
       "      <td>Withdrawn</td>\n",
       "      <td>1986-08-19</td>\n",
       "      <td>Not applicable</td>\n",
       "      <td>1986-08-19</td>\n",
       "      <td>22.0</td>\n",
       "      <td>0.0</td>\n",
       "      <td>NaN</td>\n",
       "      <td>0</td>\n",
       "      <td>Region 9</td>\n",
       "      <td>Partially Rural</td>\n",
       "      <td>-119.27023</td>\n",
       "      <td>36.374106</td>\n",
       "      <td>Tulare County, CA</td>\n",
       "      <td>06107</td>\n",
       "      <td>Tulare</td>\n",
       "      <td>Unknown</td>\n",
       "      <td>State Mental Hospital</td>\n",
       "      <td>0.0</td>\n",
       "      <td>0.0</td>\n",
       "      <td>300:1</td>\n",
       "      <td>0.0</td>\n",
       "      <td>California</td>\n",
       "      <td>U</td>\n",
       "      <td>N</td>\n",
       "      <td>Facility</td>\n",
       "      <td>39512223.0</td>\n",
       "    </tr>\n",
       "  </tbody>\n",
       "</table>\n",
       "</div>"
      ],
      "text/plain": [
       "  HPSA Designation Date                             HPSA Name  \\\n",
       "0            1978-01-23                                Warren   \n",
       "1            1978-04-07  Halifax Mental Health Catchment Area   \n",
       "2            1978-04-24           Metropolitan State Hospital   \n",
       "\n",
       "        Designation Type  HPSA Score HPSA Status  \\\n",
       "0        Geographic HPSA           0   Withdrawn   \n",
       "1        Geographic HPSA           0   Withdrawn   \n",
       "2  State Mental Hospital           0   Withdrawn   \n",
       "\n",
       "  HPSA Designation Last Update Date HPSA Degree of Shortage Withdrawn Date  \\\n",
       "0                        1995-10-02          Not applicable     1995-10-02   \n",
       "1                        2011-11-03          Not applicable     2011-11-03   \n",
       "2                        1986-08-19          Not applicable     1986-08-19   \n",
       "\n",
       "   HPSA FTE  HPSA Designation Population  % of Population Below 100% Poverty  \\\n",
       "0       1.0                      83300.0                                 5.4   \n",
       "1       3.0                          0.0                                 NaN   \n",
       "2      22.0                          0.0                                 NaN   \n",
       "\n",
       "   HPSA Formal Ratio Primary HHS Region Name     Rural Status  Longitude  \\\n",
       "0                  0                Region 2              NaN        NaN   \n",
       "1                  0                Region 4            Rural        NaN   \n",
       "2                  0                Region 9  Partially Rural -119.27023   \n",
       "\n",
       "    Latitude  Common County Name Common State County FIPS Code  \\\n",
       "0        NaN   Warren County, NJ                         34041   \n",
       "1        NaN  Halifax County, NC                         37083   \n",
       "2  36.374106   Tulare County, CA                         06107   \n",
       "\n",
       "  County Equivalent Name HPSA Component Type Description  \\\n",
       "0                 Warren                   Single County   \n",
       "1                Halifax                   Single County   \n",
       "2                 Tulare                         Unknown   \n",
       "\n",
       "  HPSA Designation Population Type Description  \\\n",
       "0                        Geographic Population   \n",
       "1                        Geographic Population   \n",
       "2                        State Mental Hospital   \n",
       "\n",
       "   HPSA Estimated Served Population  HPSA Estimated Underserved Population  \\\n",
       "0                               0.0                                    0.0   \n",
       "1                               0.0                                    0.0   \n",
       "2                               0.0                                    0.0   \n",
       "\n",
       "  HPSA Provider Ratio Goal  HPSA Shortage      State Name  \\\n",
       "0                      NaN            NaN      New Jersey   \n",
       "1                      NaN            0.0  North Carolina   \n",
       "2                    300:1            0.0      California   \n",
       "\n",
       "  U.S. - Mexico Border 100 Kilometer Indicator  \\\n",
       "0                                            N   \n",
       "1                                            N   \n",
       "2                                            U   \n",
       "\n",
       "  U.S. - Mexico Border County Indicator Designation  State Population  \n",
       "0                                     N  Geographic         8882190.0  \n",
       "1                                     N  Geographic        10488084.0  \n",
       "2                                     N    Facility        39512223.0  "
      ]
     },
     "execution_count": 3,
     "metadata": {},
     "output_type": "execute_result"
    }
   ],
   "source": [
    "hpsa = pd.read_csv(file_path + file_hpsa)\n",
    "hpsa.head(3)"
   ]
  },
  {
   "cell_type": "code",
   "execution_count": 4,
   "metadata": {},
   "outputs": [],
   "source": [
    "# Create an indicator for covid-19\n",
    "hpsa['covid_yr_indicator'] = hpsa['HPSA Designation Date'].map(lambda cell: 'yes' if '2020' in cell else 'no')"
   ]
  },
  {
   "cell_type": "code",
   "execution_count": 5,
   "metadata": {},
   "outputs": [],
   "source": [
    "hpsa_model = hpsa[['Designation Type','HPSA Status', 'HPSA Score','State Name', 'Rural Status', 'State Population', \n",
    "                  'U.S. - Mexico Border County Indicator', 'covid_yr_indicator', 'Designation']].copy()"
   ]
  },
  {
   "cell_type": "code",
   "execution_count": 6,
   "metadata": {},
   "outputs": [
    {
     "data": {
      "text/plain": [
       "Designation Type                           0\n",
       "HPSA Status                                0\n",
       "HPSA Score                                 0\n",
       "State Name                                 0\n",
       "Rural Status                             449\n",
       "State Population                          99\n",
       "U.S. - Mexico Border County Indicator      0\n",
       "covid_yr_indicator                         0\n",
       "Designation                                0\n",
       "dtype: int64"
      ]
     },
     "execution_count": 6,
     "metadata": {},
     "output_type": "execute_result"
    }
   ],
   "source": [
    "hpsa_model.isnull().sum()"
   ]
  },
  {
   "cell_type": "code",
   "execution_count": 7,
   "metadata": {},
   "outputs": [],
   "source": [
    "hpsa_model.dropna(inplace = True)"
   ]
  },
  {
   "cell_type": "code",
   "execution_count": 8,
   "metadata": {},
   "outputs": [],
   "source": [
    "hpsa_model = pd.get_dummies(hpsa_model, drop_first=True)"
   ]
  },
  {
   "cell_type": "code",
   "execution_count": 11,
   "metadata": {},
   "outputs": [],
   "source": [
    "features = hpsa_model.columns"
   ]
  },
  {
   "cell_type": "markdown",
   "metadata": {},
   "source": [
    "### Baseline Accuracy"
   ]
  },
  {
   "cell_type": "code",
   "execution_count": 12,
   "metadata": {},
   "outputs": [
    {
     "data": {
      "text/plain": [
       "Designated    0.649288\n",
       "Withdrawn     0.350712\n",
       "Name: HPSA Status, dtype: float64"
      ]
     },
     "execution_count": 12,
     "metadata": {},
     "output_type": "execute_result"
    }
   ],
   "source": [
    "hpsa['HPSA Status'].value_counts(normalize=True)"
   ]
  },
  {
   "cell_type": "markdown",
   "metadata": {},
   "source": [
    "### Metrics Function"
   ]
  },
  {
   "cell_type": "code",
   "execution_count": 13,
   "metadata": {},
   "outputs": [],
   "source": [
    "# This function will calculate the metrics for the classification models\n",
    "def metrics(model, X_test, y_test):\n",
    "    y_predictions = model.predict(X_test)\n",
    "    tn, fp, fn, tp = confusion_matrix(y_test, y_predictions).ravel()\n",
    "    plot_confusion_matrix(model, X_test, y_test, cmap='Blues', values_format='d');\n",
    "    \n",
    "    accuracy = (tp + tn)/ (tp + tn + fp + fn)\n",
    "    sensitivity = tp/(tp + fn)\n",
    "    specificity = tn/(tn + fp)\n",
    "    precision = tp/(tp + fp)\n",
    "    \n",
    "    print(f'***Metrics for {model}***')\n",
    "    print(f'Accuracy = {accuracy}')\n",
    "    print(f'Sensitivity = {sensitivity}')\n",
    "    print(f'Specificity = {specificity}')\n",
    "    print(f'Precision = {precision}')\n",
    "    \n",
    "    return "
   ]
  },
  {
   "cell_type": "markdown",
   "metadata": {},
   "source": [
    "### Split Data"
   ]
  },
  {
   "cell_type": "code",
   "execution_count": 14,
   "metadata": {},
   "outputs": [],
   "source": [
    "# Set X and y\n",
    "X = hpsa_model[features].drop(columns = 'HPSA Status_Withdrawn')\n",
    "y = hpsa_model['HPSA Status_Withdrawn']\n",
    "\n",
    "# Split into training and testing sets\n",
    "X_train, X_test, y_train, y_test = train_test_split(X, y, random_state = 42, stratify = y)"
   ]
  },
  {
   "cell_type": "markdown",
   "metadata": {},
   "source": [
    "# Modeling\n",
    "\n",
    "### Logistic Regression \n"
   ]
  },
  {
   "cell_type": "code",
   "execution_count": 15,
   "metadata": {},
   "outputs": [],
   "source": [
    "# Create a pipe object for CountVectorizer and Logistic Regression\n",
    "logreg_pipe = Pipeline([\n",
    "    ('ss', StandardScaler()),\n",
    "    ('logreg', LogisticRegression())\n",
    "])"
   ]
  },
  {
   "cell_type": "code",
   "execution_count": 16,
   "metadata": {},
   "outputs": [],
   "source": [
    "# Create a dictionary of the hyperparameters to grid serch in the model\n",
    "logreg_params = { \n",
    "    'logreg__C':[0.5, 1, 1.5],\n",
    "    'logreg__penalty': ['l1', 'l2'],\n",
    "    'logreg__solver':['liblinear']\n",
    "}"
   ]
  },
  {
   "cell_type": "code",
   "execution_count": 17,
   "metadata": {},
   "outputs": [],
   "source": [
    "# Create an instance of GridSearch CV\n",
    "grid_search_logreg = GridSearchCV(logreg_pipe, logreg_params, cv=5) "
   ]
  },
  {
   "cell_type": "code",
   "execution_count": 18,
   "metadata": {},
   "outputs": [
    {
     "data": {
      "text/plain": [
       "GridSearchCV(cv=5,\n",
       "             estimator=Pipeline(steps=[('ss', StandardScaler()),\n",
       "                                       ('logreg', LogisticRegression())]),\n",
       "             param_grid={'logreg__C': [0.5, 1, 1.5],\n",
       "                         'logreg__penalty': ['l1', 'l2'],\n",
       "                         'logreg__solver': ['liblinear']})"
      ]
     },
     "execution_count": 18,
     "metadata": {},
     "output_type": "execute_result"
    }
   ],
   "source": [
    "grid_search_logreg.fit(X_train, y_train)"
   ]
  },
  {
   "cell_type": "code",
   "execution_count": 19,
   "metadata": {},
   "outputs": [
    {
     "data": {
      "text/plain": [
       "0.7848257347428742"
      ]
     },
     "execution_count": 19,
     "metadata": {},
     "output_type": "execute_result"
    }
   ],
   "source": [
    "grid_search_logreg.best_score_"
   ]
  },
  {
   "cell_type": "code",
   "execution_count": 20,
   "metadata": {},
   "outputs": [
    {
     "data": {
      "text/plain": [
       "{'logreg__C': 0.5, 'logreg__penalty': 'l2', 'logreg__solver': 'liblinear'}"
      ]
     },
     "execution_count": 20,
     "metadata": {},
     "output_type": "execute_result"
    }
   ],
   "source": [
    "grid_search_logreg.best_params_"
   ]
  },
  {
   "cell_type": "code",
   "execution_count": 21,
   "metadata": {
    "scrolled": false
   },
   "outputs": [
    {
     "data": {
      "text/plain": [
       "0.7912304470993965"
      ]
     },
     "execution_count": 21,
     "metadata": {},
     "output_type": "execute_result"
    }
   ],
   "source": [
    "grid_search_logreg.score(X_train, y_train)"
   ]
  },
  {
   "cell_type": "code",
   "execution_count": 22,
   "metadata": {},
   "outputs": [
    {
     "data": {
      "text/plain": [
       "0.7934983376431474"
      ]
     },
     "execution_count": 22,
     "metadata": {},
     "output_type": "execute_result"
    }
   ],
   "source": [
    "grid_search_logreg.score(X_test, y_test)"
   ]
  },
  {
   "cell_type": "code",
   "execution_count": 23,
   "metadata": {},
   "outputs": [],
   "source": [
    "# Use the best parameters to build a logistic regression model\n",
    "ss = StandardScaler()\n",
    "Xs_train = ss.fit_transform(X_train)\n",
    "Xs_test = ss.transform(X_test)"
   ]
  },
  {
   "cell_type": "code",
   "execution_count": 24,
   "metadata": {},
   "outputs": [],
   "source": [
    "logreg = LogisticRegression(C=0.5, solver='liblinear', penalty='l2')"
   ]
  },
  {
   "cell_type": "code",
   "execution_count": 25,
   "metadata": {},
   "outputs": [
    {
     "data": {
      "text/plain": [
       "LogisticRegression(C=0.5, solver='liblinear')"
      ]
     },
     "execution_count": 25,
     "metadata": {},
     "output_type": "execute_result"
    }
   ],
   "source": [
    "logreg.fit(Xs_train, y_train)"
   ]
  },
  {
   "cell_type": "code",
   "execution_count": 26,
   "metadata": {},
   "outputs": [
    {
     "data": {
      "text/plain": [
       "array([[-1.21975658e+00,  3.42967872e-02, -1.91687163e-01,\n",
       "         2.67142547e-01,  1.46962600e-01, -4.21477820e-02,\n",
       "        -9.00220361e-02,  8.44677962e-03,  4.57710625e-01,\n",
       "         3.44044446e-01,  4.66043478e-01,  1.35123822e-01,\n",
       "        -3.42991774e-01, -1.23965644e-01,  1.47302454e-01,\n",
       "        -4.31965641e-02, -3.50850052e-02, -4.50808604e-02,\n",
       "        -2.88419877e-02, -1.43885692e-02,  8.46116803e-02,\n",
       "         1.16677614e-02,  1.09774851e-02, -1.31201474e-01,\n",
       "        -1.60459865e-01,  3.12176324e-03,  3.57535862e-02,\n",
       "        -1.53454732e-01,  2.51746343e-01, -1.01840507e-02,\n",
       "        -9.05820894e-02,  9.86440802e-02,  4.19298211e-02,\n",
       "         1.59933211e-02, -9.88062820e-02,  2.99992001e-02,\n",
       "         2.69999197e-02, -3.93844374e-02, -1.06463922e-01,\n",
       "         1.11428320e-01, -3.81575535e-02, -5.91176438e-02,\n",
       "         2.06476428e-02,  5.28245624e-02,  3.78450018e-02,\n",
       "        -5.15233377e-02, -3.06377820e-02,  2.46073630e-02,\n",
       "        -4.86415628e-02, -7.57967295e-02, -4.10873032e-02,\n",
       "        -2.50579688e-02,  1.87362427e-02,  1.56631569e-01,\n",
       "        -3.99048194e-02,  5.89216330e-02, -4.38709142e-02,\n",
       "         7.23951151e-02,  1.41025937e-01, -1.01100584e-03,\n",
       "         1.28475886e-01,  3.70051972e-02, -7.83751396e-02,\n",
       "         3.97009967e-02,  2.30062709e-02,  7.43619714e-03,\n",
       "         4.24569212e-02, -4.14004246e-02, -9.25631620e-01,\n",
       "         6.13880606e-02, -4.21477820e-02]])"
      ]
     },
     "execution_count": 26,
     "metadata": {},
     "output_type": "execute_result"
    }
   ],
   "source": [
    "# Review the coefficients for the logistic regression model:\n",
    "logreg.coef_"
   ]
  },
  {
   "cell_type": "code",
   "execution_count": 27,
   "metadata": {},
   "outputs": [
    {
     "data": {
      "text/plain": [
       "array([[0.29530204, 1.0348917 , 0.8255651 , 1.30622663, 1.15831064,\n",
       "        0.95872809, 0.91391105, 1.00848255, 1.58045159, 1.41064133,\n",
       "        1.59367629, 1.14467851, 0.70964405, 0.88341019, 1.15870436,\n",
       "        0.95772312, 0.96552334, 0.95592018, 0.97156997, 0.98571445,\n",
       "        1.08829438, 1.0117361 , 1.01103796, 0.87704106, 0.85175201,\n",
       "        1.00312664, 1.03640043, 0.85773959, 1.28626972, 0.98986763,\n",
       "        0.91339935, 1.10367341, 1.04282129, 1.0161219 , 0.90591818,\n",
       "        1.03045371, 1.02736772, 0.96138105, 0.89900748, 1.11787361,\n",
       "        0.96256127, 0.94259587, 1.02086228, 1.05424467, 1.03857024,\n",
       "        0.94978148, 0.9698268 , 1.02491262, 0.95252249, 0.92700462,\n",
       "        0.95974534, 0.97525338, 1.01891287, 1.16956463, 0.96088089,\n",
       "        1.06069211, 0.95707749, 1.07508004, 1.15145451, 0.99898951,\n",
       "        1.137094  , 1.03769841, 0.9246175 , 1.04049961, 1.02327296,\n",
       "        1.00746391, 1.04337111, 0.95944487, 0.39628104, 1.06331146,\n",
       "        0.95872809]])"
      ]
     },
     "execution_count": 27,
     "metadata": {},
     "output_type": "execute_result"
    }
   ],
   "source": [
    "# Transform coefficients\n",
    "np.exp(logreg.coef_)"
   ]
  },
  {
   "cell_type": "markdown",
   "metadata": {},
   "source": [
    "Interpretation: An increase of 1 in [model_feature] means that an HPSA is [coefficient_number] times as likely to be withdrawn from the designated list"
   ]
  },
  {
   "cell_type": "markdown",
   "metadata": {},
   "source": [
    "#### Evaluate this Logistic Regression Model"
   ]
  },
  {
   "cell_type": "code",
   "execution_count": 28,
   "metadata": {},
   "outputs": [
    {
     "name": "stdout",
     "output_type": "stream",
     "text": [
      "***Metrics for GridSearchCV(cv=5,\n",
      "             estimator=Pipeline(steps=[('ss', StandardScaler()),\n",
      "                                       ('logreg', LogisticRegression())]),\n",
      "             param_grid={'logreg__C': [0.5, 1, 1.5],\n",
      "                         'logreg__penalty': ['l1', 'l2'],\n",
      "                         'logreg__solver': ['liblinear']})***\n",
      "Accuracy = 0.7934983376431474\n",
      "Sensitivity = 0.5324232081911263\n",
      "Specificity = 0.9190371991247265\n",
      "Precision = 0.7597402597402597\n"
     ]
    },
    {
     "data": {
      "image/png": "[encoded data removed]",
      "text/plain": [
       "<Figure size 432x288 with 2 Axes>"
      ]
     },
     "metadata": {
      "needs_background": "light"
     },
     "output_type": "display_data"
    }
   ],
   "source": [
    "metrics(grid_search_logreg, X_test, y_test)"
   ]
  },
  {
   "cell_type": "markdown",
   "metadata": {},
   "source": [
    "### Adaboost model"
   ]
  },
  {
   "cell_type": "code",
   "execution_count": 29,
   "metadata": {},
   "outputs": [],
   "source": [
    "# Reset X_train, X_test, y_train, y_test\n",
    "X_train, X_test, y_train, y_test = train_test_split(X, y, random_state=42, stratify=y)"
   ]
  },
  {
   "cell_type": "code",
   "execution_count": 30,
   "metadata": {},
   "outputs": [],
   "source": [
    "pipe_ada_vec = Pipeline([\n",
    "    ('ss', StandardScaler()),\n",
    "    ('ada_reg', AdaBoostClassifier())  \n",
    "])"
   ]
  },
  {
   "cell_type": "code",
   "execution_count": 31,
   "metadata": {},
   "outputs": [],
   "source": [
    "ada_vec_params = {\n",
    "    'ada_reg__n_estimators': [50, 75, 100],\n",
    "}"
   ]
  },
  {
   "cell_type": "code",
   "execution_count": 32,
   "metadata": {},
   "outputs": [],
   "source": [
    "gs_ada_vec = GridSearchCV(pipe_ada_vec, ada_vec_params, cv=5, verbose=1)"
   ]
  },
  {
   "cell_type": "code",
   "execution_count": 33,
   "metadata": {},
   "outputs": [
    {
     "name": "stdout",
     "output_type": "stream",
     "text": [
      "Fitting 5 folds for each of 3 candidates, totalling 15 fits\n"
     ]
    },
    {
     "name": "stderr",
     "output_type": "stream",
     "text": [
      "[Parallel(n_jobs=1)]: Using backend SequentialBackend with 1 concurrent workers.\n",
      "[Parallel(n_jobs=1)]: Done  15 out of  15 | elapsed:   12.5s finished\n"
     ]
    },
    {
     "data": {
      "text/plain": [
       "GridSearchCV(cv=5,\n",
       "             estimator=Pipeline(steps=[('ss', StandardScaler()),\n",
       "                                       ('ada_reg', AdaBoostClassifier())]),\n",
       "             param_grid={'ada_reg__n_estimators': [50, 75, 100]}, verbose=1)"
      ]
     },
     "execution_count": 33,
     "metadata": {},
     "output_type": "execute_result"
    }
   ],
   "source": [
    "gs_ada_vec.fit(X_train, y_train)"
   ]
  },
  {
   "cell_type": "code",
   "execution_count": 34,
   "metadata": {},
   "outputs": [
    {
     "data": {
      "text/plain": [
       "0.7936947785679381"
      ]
     },
     "execution_count": 34,
     "metadata": {},
     "output_type": "execute_result"
    }
   ],
   "source": [
    "gs_ada_vec.best_score_"
   ]
  },
  {
   "cell_type": "code",
   "execution_count": 35,
   "metadata": {},
   "outputs": [
    {
     "data": {
      "text/plain": [
       "{'ada_reg__n_estimators': 75}"
      ]
     },
     "execution_count": 35,
     "metadata": {},
     "output_type": "execute_result"
    }
   ],
   "source": [
    "gs_ada_vec.best_params_"
   ]
  },
  {
   "cell_type": "code",
   "execution_count": 36,
   "metadata": {},
   "outputs": [
    {
     "data": {
      "text/plain": [
       "(0.7992363591575317, 0.7964536387144441)"
      ]
     },
     "execution_count": 36,
     "metadata": {},
     "output_type": "execute_result"
    }
   ],
   "source": [
    "gs_ada_vec.score(X_train, y_train), gs_ada_vec.score(X_test, y_test)"
   ]
  },
  {
   "cell_type": "code",
   "execution_count": 37,
   "metadata": {},
   "outputs": [
    {
     "name": "stdout",
     "output_type": "stream",
     "text": [
      "***Metrics for GridSearchCV(cv=5,\n",
      "             estimator=Pipeline(steps=[('ss', StandardScaler()),\n",
      "                                       ('ada_reg', AdaBoostClassifier())]),\n",
      "             param_grid={'ada_reg__n_estimators': [50, 75, 100]}, verbose=1)***\n",
      "Accuracy = 0.7964536387144441\n",
      "Sensitivity = 0.49715585893060293\n",
      "Specificity = 0.9403719912472648\n",
      "Precision = 0.8003663003663004\n"
     ]
    },
    {
     "data": {
      "image/png": "[encoded data removed]",
      "text/plain": [
       "<Figure size 432x288 with 2 Axes>"
      ]
     },
     "metadata": {
      "needs_background": "light"
     },
     "output_type": "display_data"
    }
   ],
   "source": [
    "metrics(gs_ada_vec, X_test, y_test)"
   ]
  },
  {
   "cell_type": "markdown",
   "metadata": {},
   "source": [
    "### Random Forest"
   ]
  },
  {
   "cell_type": "code",
   "execution_count": 38,
   "metadata": {},
   "outputs": [],
   "source": [
    "# Reset X_train, X_test, y_train, y_test\n",
    "X_train, X_test, y_train, y_test = train_test_split(X, y, random_state=42, stratify=y)"
   ]
  },
  {
   "cell_type": "code",
   "execution_count": 39,
   "metadata": {},
   "outputs": [],
   "source": [
    "rf_pipe = Pipeline([\n",
    "    ('ss', StandardScaler()),\n",
    "    ('rf', RandomForestClassifier())\n",
    "])"
   ]
  },
  {
   "cell_type": "code",
   "execution_count": 40,
   "metadata": {},
   "outputs": [],
   "source": [
    "rf_params = {\n",
    "    'rf__n_estimators': [80, 90, 100],\n",
    "    'rf__max_depth': [None, 2],\n",
    "    'rf__max_features': ['auto', None]\n",
    "}"
   ]
  },
  {
   "cell_type": "code",
   "execution_count": 41,
   "metadata": {},
   "outputs": [],
   "source": [
    "rf_gs = GridSearchCV(rf_pipe, rf_params, cv=5)"
   ]
  },
  {
   "cell_type": "code",
   "execution_count": 42,
   "metadata": {},
   "outputs": [
    {
     "data": {
      "text/plain": [
       "GridSearchCV(cv=5,\n",
       "             estimator=Pipeline(steps=[('ss', StandardScaler()),\n",
       "                                       ('rf', RandomForestClassifier())]),\n",
       "             param_grid={'rf__max_depth': [None, 2],\n",
       "                         'rf__max_features': ['auto', None],\n",
       "                         'rf__n_estimators': [80, 90, 100]})"
      ]
     },
     "execution_count": 42,
     "metadata": {},
     "output_type": "execute_result"
    }
   ],
   "source": [
    "rf_gs.fit(X_train, y_train)"
   ]
  },
  {
   "cell_type": "code",
   "execution_count": 43,
   "metadata": {},
   "outputs": [
    {
     "data": {
      "text/plain": [
       "(0.9177238576179333, 0.8367196158108607)"
      ]
     },
     "execution_count": 43,
     "metadata": {},
     "output_type": "execute_result"
    }
   ],
   "source": [
    "rf_gs.score(X_train, y_train), rf_gs.score(X_test, y_test)"
   ]
  },
  {
   "cell_type": "code",
   "execution_count": 44,
   "metadata": {},
   "outputs": [
    {
     "data": {
      "text/plain": [
       "0.8358187720240752"
      ]
     },
     "execution_count": 44,
     "metadata": {},
     "output_type": "execute_result"
    }
   ],
   "source": [
    "rf_gs.best_score_"
   ]
  },
  {
   "cell_type": "code",
   "execution_count": 45,
   "metadata": {},
   "outputs": [
    {
     "data": {
      "text/plain": [
       "{'rf__max_depth': None, 'rf__max_features': None, 'rf__n_estimators': 80}"
      ]
     },
     "execution_count": 45,
     "metadata": {},
     "output_type": "execute_result"
    }
   ],
   "source": [
    "rf_gs.best_params_"
   ]
  },
  {
   "cell_type": "code",
   "execution_count": 46,
   "metadata": {},
   "outputs": [
    {
     "data": {
      "text/plain": [
       "Pipeline(steps=[('ss', StandardScaler()),\n",
       "                ('rf',\n",
       "                 RandomForestClassifier(max_features=None, n_estimators=80))])"
      ]
     },
     "execution_count": 46,
     "metadata": {},
     "output_type": "execute_result"
    }
   ],
   "source": [
    "rf_gs.best_estimator_"
   ]
  },
  {
   "cell_type": "code",
   "execution_count": 47,
   "metadata": {},
   "outputs": [
    {
     "name": "stdout",
     "output_type": "stream",
     "text": [
      "***Metrics for GridSearchCV(cv=5,\n",
      "             estimator=Pipeline(steps=[('ss', StandardScaler()),\n",
      "                                       ('rf', RandomForestClassifier())]),\n",
      "             param_grid={'rf__max_depth': [None, 2],\n",
      "                         'rf__max_features': ['auto', None],\n",
      "                         'rf__n_estimators': [80, 90, 100]})***\n",
      "Accuracy = 0.8367196158108607\n",
      "Sensitivity = 0.714448236632537\n",
      "Specificity = 0.8955142231947484\n",
      "Precision = 0.7667887667887668\n"
     ]
    },
    {
     "data": {
      "image/png": "[encoded data removed]",
      "text/plain": [
       "<Figure size 432x288 with 2 Axes>"
      ]
     },
     "metadata": {
      "needs_background": "light"
     },
     "output_type": "display_data"
    }
   ],
   "source": [
    "metrics(rf_gs, X_test, y_test)"
   ]
  },
  {
   "cell_type": "code",
   "execution_count": null,
   "metadata": {},
   "outputs": [],
   "source": []
  }
 ],
 "metadata": {
  "kernelspec": {
   "display_name": "Python 3",
   "language": "python",
   "name": "python3"
  },
  "language_info": {
   "codemirror_mode": {
    "name": "ipython",
    "version": 3
   },
   "file_extension": ".py",
   "mimetype": "text/x-python",
   "name": "python",
   "nbconvert_exporter": "python",
   "pygments_lexer": "ipython3",
   "version": "3.8.3"
  }
 },
 "nbformat": 4,
 "nbformat_minor": 4
}
